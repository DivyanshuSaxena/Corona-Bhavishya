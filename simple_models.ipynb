{
 "cells": [
  {
   "cell_type": "code",
   "execution_count": null,
   "metadata": {},
   "outputs": [],
   "source": [
    "# Imports\n",
    "import numpy as np\n",
    "import pandas as pd\n",
    "import math\n",
    "import importlib as imp\n",
    "import matplotlib.pyplot as plt\n",
    "from sklearn.linear_model import LinearRegression\n",
    "from sklearn.svm import SVR"
   ]
  },
  {
   "cell_type": "code",
   "execution_count": null,
   "metadata": {},
   "outputs": [],
   "source": [
    "# User module imports\n",
    "from utils import district_daily_data as dd\n",
    "dd = imp.reload(dd)"
   ]
  },
  {
   "cell_type": "code",
   "execution_count": null,
   "metadata": {},
   "outputs": [],
   "source": [
    "# Flags\n",
    "linear_reg = True\n",
    "sv_reg = True\n",
    "episodes = True"
   ]
  },
  {
   "cell_type": "code",
   "execution_count": null,
   "metadata": {},
   "outputs": [],
   "source": [
    "# Directory variables\n",
    "data_dir = 'data/'"
   ]
  },
  {
   "cell_type": "code",
   "execution_count": null,
   "metadata": {},
   "outputs": [],
   "source": [
    "# Read state data\n",
    "df_state = pd.read_csv(data_dir + 'state-date-total-data.csv')\n",
    "arr_state = df_state.to_numpy() # still reversed\n",
    "arr_state = np.flipud(arr_state) # now taken data from day-1 to day-52; but still daily cases\n",
    "arr_state = np.cumsum(arr_state, axis=0) # now cumulative cases till day 52\n",
    "np.savetxt(data_dir + 'state-date-total-data-cumulative.csv', arr_state.astype(int), fmt='%i', delimiter=\",\")"
   ]
  },
  {
   "cell_type": "code",
   "execution_count": null,
   "metadata": {},
   "outputs": [],
   "source": [
    "# Read population density data\n",
    "df_population_density = pd.read_csv(data_dir + 'district_wise_population_density.csv')\n",
    "np_population_density = df_population_density.to_numpy() \n",
    "data_found_count = 0 # no of districts for which we have population density data\n",
    "\n",
    "def get_district_population_density(d):\n",
    "    global data_found_count\n",
    "    dist_pop_density = -2\n",
    "    for i_cn in range(len(np_population_density)):\n",
    "        if(np_population_density[i_cn][1].lower().count(d.lower().strip()) > 0):\n",
    "            dist_pop_density = max(float(np_population_density[i_cn][7]), dist_pop_density)\n",
    "    if(dist_pop_density <= 0): # print(d) # district not matched || area not found || population data missing\n",
    "        dist_pop_density = 368 # population density of INDIA\n",
    "    else:\n",
    "        data_found_count = data_found_count + 1\n",
    "    return dist_pop_density"
   ]
  },
  {
   "cell_type": "code",
   "execution_count": null,
   "metadata": {},
   "outputs": [],
   "source": [
    "# Read district data\n",
    "districts = dd.get_all_districts()\n",
    "dist_series = []  # [(start_date, series), (start_date, series), ...]\n",
    "max_number = 0\n",
    "\n",
    "# Note: start_date might itself be a feature\n",
    "for d in districts:\n",
    "        d_start_date = dd.get_infection_start(d)\n",
    "        district_pop_density = get_district_population_density(d)\n",
    "        district_time_series = dd.get_district_time_series(d, d_start_date)\n",
    "        district_max = max(district_time_series)\n",
    "        \n",
    "        dist_series.append((d_start_date, district_time_series, district_pop_density))\n",
    "        if district_max > max_number:\n",
    "            max_number = district_max\n",
    "        \n",
    "print(\"data_found_count:\", data_found_count,  \" tot dists:\", len(districts))"
   ]
  },
  {
   "cell_type": "code",
   "execution_count": null,
   "metadata": {},
   "outputs": [],
   "source": [
    "if linear_reg:\n",
    "    # Get x and y plots - LinearRegression\n",
    "    X = np.arange(1,53)\n",
    "    X = np.reshape(X, (52,1))\n",
    "    print (arr_state.shape)\n",
    "\n",
    "    for i in range(len(arr_state[0])):\n",
    "        y = arr_state[:,i]\n",
    "        y = np.reshape(y, (52,1))\n",
    "        reg = LinearRegression().fit(X, y)\n",
    "        x_test = np.arange(1,56).reshape(55,1)\n",
    "        y_test = reg.predict(x_test)\n",
    "        plt.scatter(X, y, color='black')\n",
    "        plt.plot(x_test,y_test)\n",
    "        plt.show()"
   ]
  },
  {
   "cell_type": "code",
   "execution_count": null,
   "metadata": {},
   "outputs": [],
   "source": [
    "if sv_reg and not episodes:\n",
    "    # Get x and y plots - SVRegression\n",
    "    X = np.arange(1,53)\n",
    "    X = np.reshape(X, (52,1))\n",
    "\n",
    "    for i in range(len(arr_state[0])):\n",
    "        y = arr_state[:,i]\n",
    "        x_test = np.arange(1,56).reshape(55,1)\n",
    "        clf = SVR(C=100.0, gamma=100)\n",
    "        clf.fit(X, y)\n",
    "        y_test = clf.predict(x_test)\n",
    "\n",
    "        plt.scatter(X, y, color='black')\n",
    "        plt.plot(x_test,y_test)\n",
    "        plt.show()"
   ]
  },
  {
   "cell_type": "code",
   "execution_count": null,
   "metadata": {},
   "outputs": [],
   "source": [
    "if episodes:\n",
    "    # Construct train and test data and fit Support Vector Regression\n",
    "    x = []\n",
    "    y = []\n",
    "    episode_length = 14\n",
    "    count = 0\n",
    "    for tup in dist_series:\n",
    "        series = tup[1]\n",
    "        dist_pop_density = tup[2]\n",
    "\n",
    "        num_episodes = len(series) - episode_length + 1\n",
    "        if num_episodes < 2: continue\n",
    "        for _in in range(num_episodes-1):\n",
    "            x.append([dist_pop_density] + series[_in:_in+episode_length])\n",
    "            y.append(series[_in+episode_length])\n",
    "\n",
    "    x = np.array(x)\n",
    "    y = np.array(y)\n",
    "\n",
    "    train_length = int(0.8*len(x))\n",
    "    x_train = x[:train_length]\n",
    "    y_train = y[:train_length]\n",
    "    x_test = x[train_length:]\n",
    "    y_true = y[train_length:]\n",
    "    clf = SVR(C=100.0, gamma='scale')\n",
    "    clf.fit(x, y)\n",
    "    \n",
    "    y_test = clf.predict(x)\n",
    "    X = np.arange(len(y))\n",
    "    X = np.reshape(X, (len(y), 1))\n",
    "    \n",
    "    # Test\n",
    "    # y_test = clf.predict(x_test)\n",
    "    # X = np.arange(len(y_test))\n",
    "    # X = np.reshape(X, (len(y_test), 1))\n",
    "    plt.plot(X, y, color='black')\n",
    "    plt.plot(X, y_test, color='red')"
   ]
  },
  {
   "cell_type": "code",
   "execution_count": null,
   "metadata": {},
   "outputs": [],
   "source": []
  }
 ],
 "metadata": {
  "kernelspec": {
   "display_name": "Python 3",
   "language": "python",
   "name": "python3"
  },
  "language_info": {
   "codemirror_mode": {
    "name": "ipython",
    "version": 3
   },
   "file_extension": ".py",
   "mimetype": "text/x-python",
   "name": "python",
   "nbconvert_exporter": "python",
   "pygments_lexer": "ipython3",
   "version": "3.7.7"
  }
 },
 "nbformat": 4,
 "nbformat_minor": 2
}
