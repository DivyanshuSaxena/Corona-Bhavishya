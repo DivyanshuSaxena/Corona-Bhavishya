{
 "cells": [
  {
   "cell_type": "code",
   "execution_count": null,
   "metadata": {},
   "outputs": [],
   "source": [
    "# Imports\n",
    "import numpy as np\n",
    "import pandas as pd\n",
    "import matplotlib.pyplot as plt\n",
    "from sklearn.linear_model import LinearRegression\n",
    "from sklearn.svm import SVR"
   ]
  },
  {
   "cell_type": "code",
   "execution_count": null,
   "metadata": {},
   "outputs": [],
   "source": [
    "# Flags\n",
    "linear_reg = True\n",
    "sv_reg = True"
   ]
  },
  {
   "cell_type": "code",
   "execution_count": null,
   "metadata": {},
   "outputs": [],
   "source": [
    "# Directory variables\n",
    "data_dir = 'data/'"
   ]
  },
  {
   "cell_type": "code",
   "execution_count": null,
   "metadata": {},
   "outputs": [],
   "source": [
    "# Read state data\n",
    "df_state = pd.read_csv(data_dir + 'state-date-total-data.csv')\n",
    "arr_state = df_state.to_numpy() # still reversed\n",
    "arr_state = np.flipud(arr_state) # now taken data from day-1 to day-52; but still daily cases\n",
    "arr_state = np.cumsum(arr_state, axis=0) # now cumulative cases till day 52\n",
    "np.savetxt(data_dir + 'state-date-total-data-cumulative.csv', arr_state.astype(int), fmt='%i', delimiter=\",\")"
   ]
  },
  {
   "cell_type": "code",
   "execution_count": null,
   "metadata": {},
   "outputs": [],
   "source": [
    "if linear_reg:\n",
    "    # Get x and y plots - LinearRegression\n",
    "    X = np.arange(1,53)\n",
    "    X = np.reshape(X, (52,1))\n",
    "    print (arr_state.shape)\n",
    "\n",
    "    for i in range(len(arr_state[0])):\n",
    "        y = arr_state[:,i]\n",
    "        y = np.reshape(y, (52,1))\n",
    "        reg = LinearRegression().fit(X, y)\n",
    "        x_test = np.arange(1,56).reshape(55,1)\n",
    "        y_test = reg.predict(x_test)\n",
    "        plt.scatter(X, y, color='black')\n",
    "        plt.plot(x_test,y_test)\n",
    "        plt.show()"
   ]
  },
  {
   "cell_type": "code",
   "execution_count": null,
   "metadata": {},
   "outputs": [],
   "source": [
    "if sv_reg:\n",
    "    # Get x and y plots - SVRegression\n",
    "    X = np.arange(1,53)\n",
    "    X = np.reshape(X, (52,1))\n",
    "\n",
    "    for i in range(len(arr_state[0])):\n",
    "        y = arr_state[:,i]\n",
    "        x_test = np.arange(1,56).reshape(55,1)\n",
    "        clf = SVR(C=1.0, epsilon=0.2)\n",
    "        clf.fit(X, y)\n",
    "        y_test = clf.predict(x_test)\n",
    "\n",
    "        plt.scatter(X, y, color='black')\n",
    "        plt.plot(x_test,y_test)\n",
    "        plt.show()"
   ]
  },
  {
   "cell_type": "code",
   "execution_count": null,
   "metadata": {},
   "outputs": [],
   "source": []
  }
 ],
 "metadata": {
  "kernelspec": {
   "display_name": "Python 3",
   "language": "python",
   "name": "python3"
  },
  "language_info": {
   "codemirror_mode": {
    "name": "ipython",
    "version": 3
   },
   "file_extension": ".py",
   "mimetype": "text/x-python",
   "name": "python",
   "nbconvert_exporter": "python",
   "pygments_lexer": "ipython3",
   "version": "3.7.1"
  }
 },
 "nbformat": 4,
 "nbformat_minor": 2
}
